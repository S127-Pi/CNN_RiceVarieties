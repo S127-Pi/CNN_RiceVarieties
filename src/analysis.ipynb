{
 "cells": [
  {
   "cell_type": "code",
   "execution_count": 1,
   "metadata": {},
   "outputs": [],
   "source": [
    "from torch.utils.data import DataLoader\n",
    "import pandas as pd\n",
    "\n",
    "from config import *\n",
    "from dataset import CustomImageFolder\n",
    "from utils import *"
   ]
  },
  {
   "cell_type": "code",
   "execution_count": 2,
   "metadata": {},
   "outputs": [
    {
     "data": {
      "text/plain": [
       "{'breed9': 697, 'breed28': 690, 'breed41': 617, 'other': 34919}"
      ]
     },
     "execution_count": 2,
     "metadata": {},
     "output_type": "execute_result"
    }
   ],
   "source": [
    "train_dataset = CustomImageFolder(root=args.train_dir)\n",
    "train_loader = DataLoader(train_dataset, batch_size=1, shuffle=True)\n",
    "label_dict = {0:\"breed9\", 1:\"breed28\", 2:\"breed41\", 3:\"other\"}\n",
    "train_stats = {}\n",
    "for i, (image, label, breed) in enumerate(train_loader):\n",
    "    label = label.item()\n",
    "    if label not in train_stats:\n",
    "        train_stats[label] = 1\n",
    "    if label in train_stats:\n",
    "        train_stats[label] += 1\n",
    "\n",
    "train_stats = dict(sorted(train_stats.items(), key = lambda x: x[0]))\n",
    "train_stats = {label_dict[k]:v for k, v in train_stats.items()}\n",
    "train_stats"
   ]
  },
  {
   "cell_type": "code",
   "execution_count": 3,
   "metadata": {},
   "outputs": [
    {
     "data": {
      "text/plain": [
       "{'breed9': 193, 'breed28': 209, 'breed41': 177, 'other': 10478}"
      ]
     },
     "execution_count": 3,
     "metadata": {},
     "output_type": "execute_result"
    }
   ],
   "source": [
    "test_dataset = CustomImageFolder(root=args.test_dir)\n",
    "test_loader = DataLoader(test_dataset, batch_size=1, shuffle=True)\n",
    "\n",
    "test_stats = {}\n",
    "for i, (image, label, breed) in enumerate(test_loader):\n",
    "    label = label.item()\n",
    "    if label not in test_stats:\n",
    "        test_stats[label] = 1\n",
    "    if label in test_stats:\n",
    "        test_stats[label] += 1\n",
    "        \n",
    "test_stats = dict(sorted(test_stats.items(), key = lambda x: x[0]))\n",
    "test_stats = {label_dict[k]:v for k, v in test_stats.items()}\n",
    "test_stats"
   ]
  },
  {
   "cell_type": "code",
   "execution_count": 4,
   "metadata": {},
   "outputs": [],
   "source": [
    "train_df = pd.DataFrame(list(train_stats.items()), columns=[\"Rice breed\", \"Quantity\"])\n",
    "test_df = pd.DataFrame(list(test_stats.items()), columns=[\"Rice breed\", \"Quantity\"])"
   ]
  },
  {
   "cell_type": "code",
   "execution_count": 14,
   "metadata": {},
   "outputs": [
    {
     "data": {
      "text/html": [
       "<div>\n",
       "<style scoped>\n",
       "    .dataframe tbody tr th:only-of-type {\n",
       "        vertical-align: middle;\n",
       "    }\n",
       "\n",
       "    .dataframe tbody tr th {\n",
       "        vertical-align: top;\n",
       "    }\n",
       "\n",
       "    .dataframe thead th {\n",
       "        text-align: right;\n",
       "    }\n",
       "</style>\n",
       "<table border=\"1\" class=\"dataframe\">\n",
       "  <thead>\n",
       "    <tr style=\"text-align: right;\">\n",
       "      <th></th>\n",
       "      <th>Rice breed</th>\n",
       "      <th>Quantity</th>\n",
       "      <th>Percentage</th>\n",
       "    </tr>\n",
       "  </thead>\n",
       "  <tbody>\n",
       "    <tr>\n",
       "      <th>0</th>\n",
       "      <td>breed9</td>\n",
       "      <td>697</td>\n",
       "      <td>1.89</td>\n",
       "    </tr>\n",
       "    <tr>\n",
       "      <th>1</th>\n",
       "      <td>breed28</td>\n",
       "      <td>690</td>\n",
       "      <td>1.87</td>\n",
       "    </tr>\n",
       "    <tr>\n",
       "      <th>2</th>\n",
       "      <td>breed41</td>\n",
       "      <td>617</td>\n",
       "      <td>1.67</td>\n",
       "    </tr>\n",
       "    <tr>\n",
       "      <th>3</th>\n",
       "      <td>other</td>\n",
       "      <td>34919</td>\n",
       "      <td>94.57</td>\n",
       "    </tr>\n",
       "  </tbody>\n",
       "</table>\n",
       "</div>"
      ],
      "text/plain": [
       "  Rice breed  Quantity  Percentage\n",
       "0     breed9       697        1.89\n",
       "1    breed28       690        1.87\n",
       "2    breed41       617        1.67\n",
       "3      other     34919       94.57"
      ]
     },
     "execution_count": 14,
     "metadata": {},
     "output_type": "execute_result"
    }
   ],
   "source": [
    "total_quantity = train_df[\"Quantity\"].sum()\n",
    "train_df[\"Percentage\"] = round((train_df[\"Quantity\"] / total_quantity) * 100, 2)\n",
    "train_df"
   ]
  },
  {
   "cell_type": "code",
   "execution_count": 13,
   "metadata": {},
   "outputs": [
    {
     "data": {
      "text/html": [
       "<div>\n",
       "<style scoped>\n",
       "    .dataframe tbody tr th:only-of-type {\n",
       "        vertical-align: middle;\n",
       "    }\n",
       "\n",
       "    .dataframe tbody tr th {\n",
       "        vertical-align: top;\n",
       "    }\n",
       "\n",
       "    .dataframe thead th {\n",
       "        text-align: right;\n",
       "    }\n",
       "</style>\n",
       "<table border=\"1\" class=\"dataframe\">\n",
       "  <thead>\n",
       "    <tr style=\"text-align: right;\">\n",
       "      <th></th>\n",
       "      <th>Rice breed</th>\n",
       "      <th>Quantity</th>\n",
       "      <th>Percentage</th>\n",
       "    </tr>\n",
       "  </thead>\n",
       "  <tbody>\n",
       "    <tr>\n",
       "      <th>0</th>\n",
       "      <td>breed9</td>\n",
       "      <td>193</td>\n",
       "      <td>1.75</td>\n",
       "    </tr>\n",
       "    <tr>\n",
       "      <th>1</th>\n",
       "      <td>breed28</td>\n",
       "      <td>209</td>\n",
       "      <td>1.89</td>\n",
       "    </tr>\n",
       "    <tr>\n",
       "      <th>2</th>\n",
       "      <td>breed41</td>\n",
       "      <td>177</td>\n",
       "      <td>1.60</td>\n",
       "    </tr>\n",
       "    <tr>\n",
       "      <th>3</th>\n",
       "      <td>other</td>\n",
       "      <td>10478</td>\n",
       "      <td>94.76</td>\n",
       "    </tr>\n",
       "  </tbody>\n",
       "</table>\n",
       "</div>"
      ],
      "text/plain": [
       "  Rice breed  Quantity  Percentage\n",
       "0     breed9       193        1.75\n",
       "1    breed28       209        1.89\n",
       "2    breed41       177        1.60\n",
       "3      other     10478       94.76"
      ]
     },
     "execution_count": 13,
     "metadata": {},
     "output_type": "execute_result"
    }
   ],
   "source": [
    "total_quantity = test_df[\"Quantity\"].sum()\n",
    "test_df[\"Percentage\"] = round((test_df[\"Quantity\"] / total_quantity) * 100, 2)\n",
    "test_df"
   ]
  }
 ],
 "metadata": {
  "kernelspec": {
   "display_name": "breed",
   "language": "python",
   "name": "python3"
  },
  "language_info": {
   "codemirror_mode": {
    "name": "ipython",
    "version": 3
   },
   "file_extension": ".py",
   "mimetype": "text/x-python",
   "name": "python",
   "nbconvert_exporter": "python",
   "pygments_lexer": "ipython3",
   "version": "3.8.20"
  }
 },
 "nbformat": 4,
 "nbformat_minor": 2
}
