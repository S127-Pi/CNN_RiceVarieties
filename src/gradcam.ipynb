{
 "cells": [
  {
   "cell_type": "code",
   "execution_count": 9,
   "metadata": {},
   "outputs": [],
   "source": [
    "import torch\n",
    "import torch.nn as nn\n",
    "import matplotlib.pyplot as plt\n",
    "from torch.utils.data import DataLoader\n",
    "import numpy as np\n",
    "\n",
    "from config import *\n",
    "from dataset import CustomImageFolder\n",
    "from model import CNNModel\n",
    "from utils import *"
   ]
  },
  {
   "cell_type": "code",
   "execution_count": 10,
   "metadata": {},
   "outputs": [
    {
     "name": "stdout",
     "output_type": "stream",
     "text": [
      "Model loaded\n"
     ]
    },
    {
     "name": "stderr",
     "output_type": "stream",
     "text": [
      "/Users/smolling/CNN_RiceVarieties/src/utils.py:18: FutureWarning: You are using `torch.load` with `weights_only=False` (the current default value), which uses the default pickle module implicitly. It is possible to construct malicious pickle data which will execute arbitrary code during unpickling (See https://github.com/pytorch/pytorch/blob/main/SECURITY.md#untrusted-models for more details). In a future release, the default value for `weights_only` will be flipped to `True`. This limits the functions that could be executed during unpickling. Arbitrary objects will no longer be allowed to be loaded via this mode unless they are explicitly allowlisted by the user via `torch.serialization.add_safe_globals`. We recommend you start setting `weights_only=True` for any use case where you don't have full control of the loaded file. Please open an issue on GitHub for any issues related to this experimental feature.\n",
      "  # Load the model if the file exists\n"
     ]
    }
   ],
   "source": [
    "set_seed(42)\n",
    "model = CNNModel()\n",
    "model = load_model(model)\n",
    "\n",
    "conv_weights = [] \n",
    "conv_layers = [] \n",
    "for module in model.children():\n",
    "    if isinstance(module, nn.Conv2d):\n",
    "        conv_weights.append(module.weight)\n",
    "        conv_layers.append(module)"
   ]
  },
  {
   "cell_type": "code",
   "execution_count": 1,
   "metadata": {},
   "outputs": [
    {
     "ename": "NameError",
     "evalue": "name 'CustomImageFolder' is not defined",
     "output_type": "error",
     "traceback": [
      "\u001b[0;31m---------------------------------------------------------------------------\u001b[0m",
      "\u001b[0;31mNameError\u001b[0m                                 Traceback (most recent call last)",
      "Cell \u001b[0;32mIn[1], line 1\u001b[0m\n\u001b[0;32m----> 1\u001b[0m test_dataset \u001b[38;5;241m=\u001b[39m \u001b[43mCustomImageFolder\u001b[49m(root\u001b[38;5;241m=\u001b[39m\u001b[38;5;124m\"\u001b[39m\u001b[38;5;124m../data/assignment_test\u001b[39m\u001b[38;5;124m\"\u001b[39m)\n\u001b[1;32m      2\u001b[0m test_loader \u001b[38;5;241m=\u001b[39m DataLoader(test_dataset, batch_size\u001b[38;5;241m=\u001b[39m\u001b[38;5;241m1\u001b[39m, shuffle\u001b[38;5;241m=\u001b[39m\u001b[38;5;28;01mTrue\u001b[39;00m)\n\u001b[1;32m      3\u001b[0m label_dict \u001b[38;5;241m=\u001b[39m {\u001b[38;5;124m\"\u001b[39m\u001b[38;5;124mbreed9\u001b[39m\u001b[38;5;124m\"\u001b[39m: \u001b[38;5;241m0\u001b[39m, \u001b[38;5;124m\"\u001b[39m\u001b[38;5;124mbreed28\u001b[39m\u001b[38;5;124m\"\u001b[39m: \u001b[38;5;241m1\u001b[39m, \u001b[38;5;124m\"\u001b[39m\u001b[38;5;124mbreed41\u001b[39m\u001b[38;5;124m\"\u001b[39m: \u001b[38;5;241m2\u001b[39m, \u001b[38;5;124m\"\u001b[39m\u001b[38;5;124mother\u001b[39m\u001b[38;5;124m\"\u001b[39m: \u001b[38;5;241m3\u001b[39m}\n",
      "\u001b[0;31mNameError\u001b[0m: name 'CustomImageFolder' is not defined"
     ]
    }
   ],
   "source": [
    "test_dataset = CustomImageFolder(root=args.test_dir)\n",
    "test_loader = DataLoader(test_dataset, batch_size=1, shuffle=True)\n",
    "label_dict = {\"breed9\": 0, \"breed28\": 1, \"breed41\": 2, \"other\": 3}\n",
    "label_set = set()\n",
    "unique_breed = []\n",
    "\n",
    "for i, (image, label, breed) in enumerate(test_loader):\n",
    "    breed = breed[0]\n",
    "    if len(label_set) == 4:\n",
    "        break\n",
    "    if label.item() in label_set:\n",
    "        continue\n",
    "    print(label.item())\n",
    "    print(breed)\n",
    "    label_set.add(label.item())\n",
    "    unique_breed.append((image, label, breed))"
   ]
  },
  {
   "cell_type": "code",
   "execution_count": null,
   "metadata": {},
   "outputs": [],
   "source": [
    "feature_maps = []  # List to store feature maps\n",
    "layer_names = []  # List to store layer names\n",
    "for i, (image, label, breed) in enumerate(unique_breed):\n",
    "    if i == 2:\n",
    "        break\n",
    "    image, label = image.to(device), label.to(device)\n",
    "    for layer in conv_layers:\n",
    "        image = layer(image)\n",
    "        feature_maps.append(image)\n",
    "        layer_names.append(str(layer))\n",
    "    processed_feature_maps = []  # List to store processed feature maps\n",
    "    for feature_map in feature_maps:\n",
    "        feature_map = feature_map.squeeze(0)  # Remove the batch dimension\n",
    "        mean_feature_map = torch.sum(feature_map, 0) / feature_map.shape[0]  # Compute mean across channels\n",
    "        processed_feature_maps.append(mean_feature_map.data.cpu().numpy())\n",
    "    # Plot the feature maps\n",
    "    fig = plt.figure(figsize=(30, 50))\n",
    "    for i in range(len(processed_feature_maps)):\n",
    "        ax = fig.add_subplot(5, 4, i + 1)\n",
    "        ax.imshow(processed_feature_maps[i])\n",
    "        ax.set_title(layer_names[i].split('(')[0], fontsize=30)"
   ]
  }
 ],
 "metadata": {
  "kernelspec": {
   "display_name": "breed",
   "language": "python",
   "name": "python3"
  },
  "language_info": {
   "codemirror_mode": {
    "name": "ipython",
    "version": 3
   },
   "file_extension": ".py",
   "mimetype": "text/x-python",
   "name": "python",
   "nbconvert_exporter": "python",
   "pygments_lexer": "ipython3",
   "version": "3.8.20"
  }
 },
 "nbformat": 4,
 "nbformat_minor": 2
}
